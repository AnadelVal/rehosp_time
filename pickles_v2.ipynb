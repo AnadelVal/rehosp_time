{
 "cells": [
  {
   "cell_type": "code",
   "execution_count": 1,
   "metadata": {},
   "outputs": [],
   "source": [
    "import pandas as pd\n",
    "import numpy as np\n",
    "import re\n",
    "import matplotlib.pyplot as plt\n",
    "import spacy\n",
    "import scispacy\n",
    "import en_core_sci_sm\n",
    "import math\n",
    "import pickle\n",
    "from pandas import ExcelWriter\n",
    "from sklearn import metrics\n",
    "from sklearn.preprocessing import LabelEncoder\n",
    "from sklearn import datasets, linear_model\n",
    "from sklearn.model_selection import train_test_split\n",
    "from sklearn import tree\n",
    "from sklearn.ensemble import RandomForestRegressor\n",
    "from sklearn import linear_model\n",
    "from sklearn import svm\n",
    "from sklearn.metrics import mean_squared_error\n",
    "import sklearn.metrics as metrics"
   ]
  },
  {
   "cell_type": "code",
   "execution_count": 2,
   "metadata": {},
   "outputs": [],
   "source": [
    "fl = open(\"master_severity.pkl\", \"rb\")\n",
    "master_severity = pickle.load(fl)"
   ]
  },
  {
   "cell_type": "code",
   "execution_count": 3,
   "metadata": {},
   "outputs": [],
   "source": [
    "fl = open(\"main.pkl\", \"rb\")\n",
    "main = pickle.load(fl)"
   ]
  },
  {
   "cell_type": "code",
   "execution_count": 4,
   "metadata": {},
   "outputs": [],
   "source": [
    "fl = open(\"master.pkl\", \"rb\")\n",
    "master = pickle.load(fl)"
   ]
  },
  {
   "cell_type": "code",
   "execution_count": 5,
   "metadata": {},
   "outputs": [],
   "source": [
    "fl = open(\"dia_icd.pkl\", \"rb\")\n",
    "dia_icd = pickle.load(fl)"
   ]
  },
  {
   "cell_type": "code",
   "execution_count": 6,
   "metadata": {},
   "outputs": [],
   "source": [
    "fl = open(\"prescriptions.pkl\", \"rb\")\n",
    "prescriptions = pickle.load(fl)"
   ]
  },
  {
   "cell_type": "code",
   "execution_count": 7,
   "metadata": {},
   "outputs": [],
   "source": [
    "fl = open(\"treatment.pkl\", \"rb\")\n",
    "treatment = pickle.load(fl)"
   ]
  },
  {
   "cell_type": "code",
   "execution_count": 8,
   "metadata": {},
   "outputs": [],
   "source": [
    "fl = open(\"angular.pkl\", \"rb\")\n",
    "angular = pickle.load(fl)"
   ]
  },
  {
   "cell_type": "code",
   "execution_count": 9,
   "metadata": {},
   "outputs": [],
   "source": [
    "fl = open(\"disch_notes.pkl\", \"rb\")\n",
    "disch_notes = pickle.load(fl)"
   ]
  },
  {
   "cell_type": "code",
   "execution_count": 10,
   "metadata": {},
   "outputs": [],
   "source": [
    "fl = open(\"angular_notes.pkl\", \"rb\")\n",
    "angular_notes = pickle.load(fl)"
   ]
  },
  {
   "cell_type": "code",
   "execution_count": 11,
   "metadata": {},
   "outputs": [],
   "source": [
    "fl = open(\"angular_notes_train.pkl\", \"rb\")\n",
    "angular_notes_train = pickle.load(fl)"
   ]
  },
  {
   "cell_type": "code",
   "execution_count": 12,
   "metadata": {},
   "outputs": [],
   "source": [
    "fl = open(\"angular_notes_test.pkl\", \"rb\")\n",
    "angular_notes_test = pickle.load(fl)"
   ]
  },
  {
   "cell_type": "code",
   "execution_count": 13,
   "metadata": {},
   "outputs": [],
   "source": [
    "fl = open(\"angular_notesW2Vd.pkl\", \"rb\")\n",
    "angular_notesW2Vd = pickle.load(fl)"
   ]
  },
  {
   "cell_type": "code",
   "execution_count": 14,
   "metadata": {},
   "outputs": [],
   "source": [
    "fl = open(\"angular_notesW2Vd_test.pkl\", \"rb\")\n",
    "angular_notesW2Vd_test = pickle.load(fl)"
   ]
  },
  {
   "cell_type": "code",
   "execution_count": 15,
   "metadata": {},
   "outputs": [],
   "source": [
    "y = angular_notesW2Vd.REHOSP"
   ]
  },
  {
   "cell_type": "code",
   "execution_count": 16,
   "metadata": {},
   "outputs": [],
   "source": [
    "X_train, X_test, y_train, y_test = train_test_split(angular_notesW2Vd.loc[:, angular_notesW2Vd.columns != 'REHOSP'], y, test_size=0.2)"
   ]
  },
  {
   "cell_type": "code",
   "execution_count": 17,
   "metadata": {},
   "outputs": [
    {
     "name": "stdout",
     "output_type": "stream",
     "text": [
      "Results of sklearn.metrics:\n",
      "MSE: 273011.4490450697\n",
      "MAE: 342.5603381117153\n",
      "RMSE: 522.50497513906\n",
      "R-Squared: 0.19814149291454408\n",
      "Adjusted R-Squared: -0.013348688329244851\n"
     ]
    }
   ],
   "source": [
    "regr = RandomForestRegressor(max_depth=100, random_state=0, n_estimators=500)\n",
    "regr.fit(X_train, y_train)\n",
    "y_pred = regr.predict(X_test)\n",
    "mse = mean_squared_error(y_test, y_pred)\n",
    "mae = metrics.mean_absolute_error(y_test, y_pred)\n",
    "rmse = np.sqrt(mse)\n",
    "\n",
    "SS_Residual = sum((y_test-y_pred)**2)       \n",
    "SS_Total = sum((y_test-np.mean(y_test))**2)     \n",
    "r_squared = 1 - (float(SS_Residual))/SS_Total\n",
    "adjusted_r_squared = 1 - (1-r_squared)*(len(y_test)-1)/(len(y_test)-X_test.shape[1]-1)\n",
    "\n",
    "print(\"Results of sklearn.metrics:\")\n",
    "print(\"MSE:\", mse)\n",
    "print(\"MAE:\",mae)\n",
    "print(\"RMSE:\", rmse)\n",
    "print(\"R-Squared:\", r_squared)\n",
    "print(\"Adjusted R-Squared:\", adjusted_r_squared)"
   ]
  },
  {
   "cell_type": "code",
   "execution_count": 18,
   "metadata": {},
   "outputs": [],
   "source": [
    "true_pred = pd.concat([y_test.reset_index(drop=True), pd.DataFrame(y_pred)], axis=1)\n",
    "true_pred.columns = ['y_test', 'y_pred']\n",
    "writer = ExcelWriter('true_pred_RandomForestRegressor.xlsx')\n",
    "true_pred.to_excel(writer,'Sheet1')\n",
    "writer.save()"
   ]
  },
  {
   "cell_type": "code",
   "execution_count": 19,
   "metadata": {},
   "outputs": [
    {
     "name": "stdout",
     "output_type": "stream",
     "text": [
      "Results of sklearn.metrics:\n",
      "MSE: 294273.63439032255\n",
      "MAE: 350.2313482342998\n",
      "RMSE: 542.4699386973647\n",
      "R-Squared: 0.1356925946798615\n",
      "Adjusted R-Squared: -0.09226848347332517\n"
     ]
    }
   ],
   "source": [
    "bayes_reg = linear_model.BayesianRidge()\n",
    "bayes_reg = bayes_reg.fit(X_train, y_train)\n",
    "y_pred = bayes_reg.predict(X_test)\n",
    "mse = mean_squared_error(y_test, y_pred)\n",
    "mae = metrics.mean_absolute_error(y_test, y_pred)\n",
    "rmse = np.sqrt(mse)\n",
    "\n",
    "SS_Residual = sum((y_test-y_pred)**2)       \n",
    "SS_Total = sum((y_test-np.mean(y_test))**2)     \n",
    "r_squared = 1 - (float(SS_Residual))/SS_Total\n",
    "adjusted_r_squared = 1 - (1-r_squared)*(len(y_test)-1)/(len(y_test)-X_test.shape[1]-1)\n",
    "\n",
    "print(\"Results of sklearn.metrics:\")\n",
    "print(\"MSE:\", mse)\n",
    "print(\"MAE:\",mae)\n",
    "print(\"RMSE:\", rmse)\n",
    "print(\"R-Squared:\", r_squared)\n",
    "print(\"Adjusted R-Squared:\", adjusted_r_squared)"
   ]
  },
  {
   "cell_type": "code",
   "execution_count": 20,
   "metadata": {},
   "outputs": [],
   "source": [
    "true_pred = pd.concat([y_test.reset_index(drop=True), pd.DataFrame(y_pred)], axis=1)\n",
    "true_pred.columns = ['y_test', 'y_pred']\n",
    "writer = ExcelWriter('true_pred_BayesianRidge.xlsx')\n",
    "true_pred.to_excel(writer,'Sheet1')\n",
    "writer.save()"
   ]
  },
  {
   "cell_type": "code",
   "execution_count": 21,
   "metadata": {},
   "outputs": [
    {
     "name": "stdout",
     "output_type": "stream",
     "text": [
      "Results of sklearn.metrics:\n",
      "MSE: 393877.4625900889\n",
      "MAE: 329.0283757129507\n",
      "RMSE: 627.5965763052639\n",
      "R-Squared: -0.15685256142850346\n",
      "Adjusted R-Squared: -0.4619724245052712\n"
     ]
    }
   ],
   "source": [
    "svm_regr = svm.SVR()\n",
    "svm_regr = svm_regr.fit(X_train, y_train)\n",
    "y_pred = svm_regr.predict(X_test)\n",
    "mse = mean_squared_error(y_test, y_pred)\n",
    "mae = metrics.mean_absolute_error(y_test, y_pred)\n",
    "rmse = np.sqrt(mse)\n",
    "\n",
    "SS_Residual = sum((y_test-y_pred)**2)       \n",
    "SS_Total = sum((y_test-np.mean(y_test))**2)     \n",
    "r_squared = 1 - (float(SS_Residual))/SS_Total\n",
    "adjusted_r_squared = 1 - (1-r_squared)*(len(y_test)-1)/(len(y_test)-X_test.shape[1]-1)\n",
    "\n",
    "print(\"Results of sklearn.metrics:\")\n",
    "print(\"MSE:\", mse)\n",
    "print(\"MAE:\",mae)\n",
    "print(\"RMSE:\", rmse)\n",
    "print(\"R-Squared:\", r_squared)\n",
    "print(\"Adjusted R-Squared:\", adjusted_r_squared)"
   ]
  },
  {
   "cell_type": "code",
   "execution_count": 22,
   "metadata": {},
   "outputs": [],
   "source": [
    "true_pred = pd.concat([y_test.reset_index(drop=True), pd.DataFrame(y_pred)], axis=1)\n",
    "true_pred.columns = ['y_test', 'y_pred']\n",
    "writer = ExcelWriter('true_pred_SVR.xlsx')\n",
    "true_pred.to_excel(writer,'Sheet1')\n",
    "writer.save()"
   ]
  },
  {
   "cell_type": "code",
   "execution_count": 23,
   "metadata": {},
   "outputs": [
    {
     "name": "stdout",
     "output_type": "stream",
     "text": [
      "Results of sklearn.metrics:\n",
      "MSE: 520955.8334157192\n",
      "MAE: 441.33415719228867\n",
      "RMSE: 721.772702043877\n",
      "R-Squared: -0.5300928525207254\n",
      "Adjusted R-Squared: -0.9336548423730668\n"
     ]
    }
   ],
   "source": [
    "model_tree = tree.DecisionTreeRegressor()\n",
    "model_tree = model_tree.fit(X_train, y_train)\n",
    "y_pred = model_tree.predict(X_test)\n",
    "mse = mean_squared_error(y_test, y_pred)\n",
    "mae = metrics.mean_absolute_error(y_test, y_pred)\n",
    "rmse = np.sqrt(mse)\n",
    "#r2 = metrics.r2_score(y_test, y_pred)\n",
    "\n",
    "SS_Residual = sum((y_test-y_pred)**2)       \n",
    "SS_Total = sum((y_test-np.mean(y_test))**2)     \n",
    "r_squared = 1 - (float(SS_Residual))/SS_Total\n",
    "adjusted_r_squared = 1 - (1-r_squared)*(len(y_test)-1)/(len(y_test)-X_test.shape[1]-1)\n",
    "\n",
    "print(\"Results of sklearn.metrics:\")\n",
    "print(\"MSE:\", mse)\n",
    "print(\"MAE:\",mae)\n",
    "print(\"RMSE:\", rmse)\n",
    "#print(\"R-Squared:\", r2)\n",
    "print(\"R-Squared:\", r_squared)\n",
    "print(\"Adjusted R-Squared:\", adjusted_r_squared)"
   ]
  },
  {
   "cell_type": "code",
   "execution_count": 24,
   "metadata": {},
   "outputs": [],
   "source": [
    "true_pred = pd.concat([y_test.reset_index(drop=True), pd.DataFrame(y_pred)], axis=1)\n",
    "true_pred.columns = ['y_test', 'y_pred']\n",
    "writer = ExcelWriter('true_pred_DecisionTreeRegressor.xlsx')\n",
    "true_pred.to_excel(writer,'Sheet1')\n",
    "writer.save()"
   ]
  },
  {
   "cell_type": "code",
   "execution_count": 25,
   "metadata": {},
   "outputs": [],
   "source": [
    "best_tree = RandomForestRegressor(max_depth=100, random_state=0, n_estimators=500)\n",
    "best_tree = best_tree.fit(angular_notesW2Vd.loc[:, angular_notesW2Vd.columns != 'REHOSP'], angular_notesW2Vd.REHOSP)"
   ]
  },
  {
   "cell_type": "code",
   "execution_count": 26,
   "metadata": {},
   "outputs": [],
   "source": [
    "best_pred = best_tree.predict(angular_notesW2Vd_test)"
   ]
  }
 ],
 "metadata": {
  "kernelspec": {
   "display_name": "Python 3",
   "language": "python",
   "name": "python3"
  },
  "language_info": {
   "codemirror_mode": {
    "name": "ipython",
    "version": 3
   },
   "file_extension": ".py",
   "mimetype": "text/x-python",
   "name": "python",
   "nbconvert_exporter": "python",
   "pygments_lexer": "ipython3",
   "version": "3.8.3"
  }
 },
 "nbformat": 4,
 "nbformat_minor": 4
}
